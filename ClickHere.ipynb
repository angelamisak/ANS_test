{
 "cells": [
  {
   "cell_type": "markdown",
   "id": "de711bb5-646e-45d7-a3b3-5b2e78ccab99",
   "metadata": {},
   "source": [
    "# <span style='font-family:sans-serif'> **The ANS test** </span>\n",
    "\n",
    "<span style='font-family:sans-serif'> The ANS test is a cognitive system that supports the estimation of the magnitude/numerosity without relying on language. </span>\n",
    "\n",
    "<span style='font-family:sans-serif'> Thank you for participating! Please click on the option  <span style='color:Blue'> **'Kernel'** </span> from the toolbar and then select <span style='color:Blue'> **'Restart Kernel and Run All Cells'** </span> to start the test. </span>\n",
    "\n",
    "***"
   ]
  },
  {
   "cell_type": "code",
   "execution_count": 1,
   "id": "f2a14d25-f205-4d95-93e5-864f067c6047",
   "metadata": {
    "jupyter": {
     "source_hidden": true
    }
   },
   "outputs": [
    {
     "name": "stdout",
     "output_type": "stream",
     "text": [
      "You scored 70 out of 144!\n"
     ]
    }
   ],
   "source": [
    "#:)\n",
    "from ANS_resource import *\n",
    "whole_ANS_test()"
   ]
  }
 ],
 "metadata": {
  "kernelspec": {
   "display_name": "Python 3 (ipykernel)",
   "language": "python",
   "name": "python3"
  },
  "language_info": {
   "codemirror_mode": {
    "name": "ipython",
    "version": 3
   },
   "file_extension": ".py",
   "mimetype": "text/x-python",
   "name": "python",
   "nbconvert_exporter": "python",
   "pygments_lexer": "ipython3",
   "version": "3.10.10"
  }
 },
 "nbformat": 4,
 "nbformat_minor": 5
}
