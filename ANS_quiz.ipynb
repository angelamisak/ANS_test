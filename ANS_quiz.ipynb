{
 "cells": [
  {
   "cell_type": "code",
   "execution_count": 19,
   "id": "41869d27-93fd-49d5-b369-aa4828f0aeb7",
   "metadata": {},
   "outputs": [],
   "source": [
    "from IPython.display import display, HTML, Image, clear_output\n",
    "import time\n",
    "import random\n",
    "from ipywidgets import widgets, interactive, interact\n",
    "from jupyter_ui_poll import ui_events"
   ]
  },
  {
   "cell_type": "code",
   "execution_count": 98,
   "id": "2d0963c7-bf7d-46b0-b917-c9df498ded2b",
   "metadata": {},
   "outputs": [],
   "source": [
    "#all photos used in the test are defined here\n",
    "pic1 = Image(\"1_12v9.png\", width = 500)\n",
    "pic2 = Image(\"2_9v12.png\", width = 500)\n",
    "\n",
    "pic3 = Image(\"2_18v21.png\", width = 500)\n",
    "pic4 = Image(\"1_21v18.png\", width = 500)\n",
    "\n",
    "pic5 = Image(\"1_20v15.png\", width = 500)\n",
    "pic6 = Image(\"2_15v20.png\", width = 500)\n",
    "\n",
    "pic7 = Image(\"2_16v18.png\", width = 500)\n",
    "pic8 = Image(\"1_18v16.png\", width = 500)\n",
    "\n",
    "pic9 = Image(\"1_20v18.png\", width = 500)\n",
    "pic10 = Image(\"2_18v20.png\", width = 500)\n",
    "\n",
    "pic11 = Image(\"1_10v9.png\", width = 500)\n",
    "pic12 = Image(\"2_9v10.png\", width = 500)\n",
    "\n",
    "pic13 = Image(\"1_14v12.png\", width = 500)\n",
    "pic14 = Image(\"2_12v14.png\", width = 500)\n",
    "\n",
    "pic15 = Image(\"1_16v12.png\", width = 500)\n",
    "pic16 = Image(\"2_12v16.png\", width = 500)\n",
    "\n",
    "test_photos = [\"1_12v9.png\", \"2_9v12.png\", \"2_18v21.png\", \"1_21v18.png\", \"1_20v15.png\", \"2_15v20.png\", \"2_16v18.png\", \"1_18v16.png\", \"1_20v18.png\", \"2_18v20.png\", \"1_10v9.png\", \"2_9v10.png\", \"1_14v12.png\", \"2_12v14.png\", \"1_16v12.png\", \"2_12v16.png\"]\n",
    "\n"
   ]
  },
  {
   "cell_type": "code",
   "execution_count": 74,
   "id": "68a5c768-40a4-4107-95ea-4553b2e3845e",
   "metadata": {},
   "outputs": [],
   "source": [
    "#this enables text on the screen to appear gradually to make it easier for participants to follow instructions\n",
    "def display_gradually(text, delay=0.05):\n",
    "    for char in text:\n",
    "        print(char, end='', flush=True)\n",
    "        time.sleep(delay)\n",
    "    print()\n",
    "    "
   ]
  },
  {
   "cell_type": "code",
   "execution_count": 95,
   "id": "21f8864f-24e7-40af-8d5f-45d681af47bd",
   "metadata": {},
   "outputs": [],
   "source": [
    "#this basically introduces the user to what the test is about, and what they need to do\n",
    "def introduction(): \n",
    "    intro_out = \"This is the Approximate Number Sense (ANS) test. It basically tests how well you can approximate numerical quantities, without the use of language!\"\n",
    "    display_gradually(intro_out)\n",
    "    time.sleep(1)\n",
    "\n",
    "    intro_out_2 = \"To test your ANS, we will show you a series of photos with two groups of dots on them - one will contain blue dots and the other one orange dots.\"\n",
    "    display_gradually(intro_out_2)\n",
    "    time.sleep(1)\n",
    "\n",
    "    intro_out_3 = \"They will basically look like this:\"\n",
    "    display_gradually(intro_out_3)\n",
    "\n",
    "    display(pic1)\n",
    "    time.sleep(3)\n",
    "\n",
    "    intro_out_4 = \"Each photo will be shown to you only briefly, and you will have 3 seconds to give us your answer by clicking either on a button that says blue (if you think there are more blue dots) or on a button that says orange (if you think there are more orange dots).\"\n",
    "    display_gradually(intro_out_4) \n",
    "    time.sleep(1)\n",
    "\n",
    "    intro_out_5 = \"Before we start, we will just ask you a few questions so that we know a little more about you!\"\n",
    "    display_gradually(intro_out_5)\n",
    "    time.sleep(3)\n"
   ]
  },
  {
   "cell_type": "code",
   "execution_count": 76,
   "id": "f0f1ce9d-2b62-40dc-91cb-5979eceaea11",
   "metadata": {},
   "outputs": [],
   "source": [
    "#to store widget input\n",
    "def update_user_gender(change):\n",
    "    global user_gender\n",
    "    user_gender = change['new']"
   ]
  },
  {
   "cell_type": "code",
   "execution_count": 91,
   "id": "3b6b483b-57e5-44f5-8e82-55019bd56b7f",
   "metadata": {},
   "outputs": [],
   "source": [
    "#this is to collect the personal information of the players\n",
    "def get_personal_info():\n",
    "    user_name = input(\"What's your name?\")\n",
    "    user_age = input(\"And how old are you?\")\n",
    "    user_gender = None\n",
    "    \n",
    "    gender_options = ['Male', 'Female', 'Non-binary', 'Other', 'Prefer not to say']\n",
    "    \n",
    "    gender_dropdown = widgets.Dropdown(options=gender_options, description='Gender?')\n",
    "\n",
    "    gender_dropdown.observe(update_user_gender, names='value')\n",
    "\n",
    "    display(gender_dropdown)\n",
    "\n",
    "    time.sleep(5)\n",
    "\n",
    "    print(\"Great, now we know you a bit better! Now we can start the test!\")\n",
    "\n",
    "    time.sleep(3)\n",
    "\n",
    "    clear_output(wait = False)"
   ]
  },
  {
   "cell_type": "code",
   "execution_count": 49,
   "id": "914cdcb1-4394-41d3-b107-7014795ad0d4",
   "metadata": {},
   "outputs": [],
   "source": [
    "#this function shuffles the list of all test photos and creates a list of correct answers for the shuffled list\n",
    "correct_answer_list = []\n",
    "\n",
    "def get_photo_and_ans_list():\n",
    "    \n",
    "    random.shuffle(test_photos) #so that each participant receives a different order of test photos\n",
    "    \n",
    "    \n",
    "    len_test = len(test_photos)\n",
    "    \n",
    "    for i in range (len_test):\n",
    "        individual_correct_ans = test_photos[i][0]\n",
    "        correct_answer_list.append(individual_correct_ans)\n",
    "\n",
    "    return test_photos, correct_answer_list\n"
   ]
  },
  {
   "cell_type": "code",
   "execution_count": 9,
   "id": "0663e048-1162-4d1f-80e5-a9692aa5e99d",
   "metadata": {},
   "outputs": [
    {
     "data": {
      "text/html": [
       "\n",
       "<style>\n",
       ".jupyter-widgets.widget-button_blue {\n",
       "    background-color: blue;\n",
       "    color: white;\n",
       "}\n",
       " </style>\n"
      ],
      "text/plain": [
       "<IPython.core.display.HTML object>"
      ]
     },
     "metadata": {},
     "output_type": "display_data"
    }
   ],
   "source": [
    "#this function creates a blue response button\n",
    "\n",
    "custom_style_blue = \"\"\"\n",
    "<style>\n",
    ".jupyter-widgets.widget-button_blue {\n",
    "    background-color: blue;\n",
    "    color: white;\n",
    "}\n",
    " </style>\n",
    "\"\"\"\n",
    "    \n",
    "display(HTML(custom_style_blue))\n",
    "    \n",
    "#here the button is created\n",
    "button_blue = widgets.Button(description='Blue')\n",
    "    \n",
    "button_blue.add_class('widget-button_blue')\n",
    "    \n",
    "#here the button is stylised \n",
    "button_blue.style.button_color = 'blue'\n",
    "button_blue.style.color = 'white'\n",
    "    \n",
    "#display(button_blue)"
   ]
  },
  {
   "cell_type": "code",
   "execution_count": 10,
   "id": "256f882d-5604-44a4-b9e0-e36e87c2ba99",
   "metadata": {},
   "outputs": [
    {
     "data": {
      "text/html": [
       "\n",
       "<style>\n",
       ".jupyter-widgets.widget-button_orange {\n",
       "    background-color: orange;\n",
       "    color: white;\n",
       "}\n",
       "</style>\n"
      ],
      "text/plain": [
       "<IPython.core.display.HTML object>"
      ]
     },
     "metadata": {},
     "output_type": "display_data"
    }
   ],
   "source": [
    "#this function creates an orange response button\n",
    "\n",
    "custom_style_orange = \"\"\"\n",
    "<style>\n",
    ".jupyter-widgets.widget-button_orange {\n",
    "    background-color: orange;\n",
    "    color: white;\n",
    "}\n",
    "</style>\n",
    "\"\"\"\n",
    "    \n",
    "display(HTML(custom_style_orange))\n",
    "    \n",
    "#here the button is created\n",
    "button_orange = widgets.Button(description='Orange')\n",
    "    \n",
    "button_orange.add_class('widget-button_orange')\n",
    "    \n",
    "#here the button is stylised \n",
    "button_orange.style.button_color = 'orange'\n",
    "button_orange.style.color = 'white'\n",
    "\n",
    "#display(button_orange)"
   ]
  },
  {
   "cell_type": "code",
   "execution_count": 38,
   "id": "39156f3f-3842-4870-96f7-4b42799e3f8a",
   "metadata": {},
   "outputs": [],
   "source": [
    "#this part of the code deals with widgets\n",
    "\n",
    "event_info = {\n",
    "    'type': '',\n",
    "    'description': '',\n",
    "    'time': -1\n",
    "}\n",
    "\n",
    "def wait_for_event(timeout=-1, interval=0.001, max_rate=20, allow_interupt=True):    \n",
    "    start_wait = time.time()\n",
    "\n",
    "    # set event info to be empty\n",
    "    # as this is dict we can change entries\n",
    "    # directly without using\n",
    "    # the global keyword\n",
    "    event_info['type'] = \"\"\n",
    "    event_info['description'] = \"\"\n",
    "    event_info['time'] = -1\n",
    "\n",
    "    n_proc = int(max_rate*interval)+1\n",
    "    \n",
    "    with ui_events() as ui_poll:\n",
    "        keep_looping = True\n",
    "        while keep_looping==True:\n",
    "            # process UI events\n",
    "            ui_poll(n_proc)\n",
    "\n",
    "            # end loop if we have waited more than the timeout period\n",
    "            if (timeout != -1) and (time.time() > start_wait + timeout):\n",
    "                keep_looping = False\n",
    "                \n",
    "            # end loop if event has occured\n",
    "            if allow_interupt==True and event_info['description']!=\"\":\n",
    "                keep_looping = False\n",
    "                \n",
    "            # add pause before looping\n",
    "            # to check events again\n",
    "            time.sleep(interval)\n",
    "    \n",
    "    # return event description after wait ends\n",
    "    # will be set to empty string '' if no event occured\n",
    "    return event_info\n",
    "\n",
    "# this function lets buttons \n",
    "# register events when clicked\n",
    "def register_btn_event(btn):\n",
    "    event_info['type'] = \"button click\"\n",
    "    event_info['description'] = btn.description\n",
    "    event_info['time'] = time.time()\n",
    "    return event_info"
   ]
  },
  {
   "cell_type": "code",
   "execution_count": 96,
   "id": "268e50f9-4475-4437-aaca-a0d70250791f",
   "metadata": {},
   "outputs": [],
   "source": [
    "# the test consists of showing the 16 defined photos four times in random order\n",
    "#this function defines one out of these four rounds\n",
    "def choose_winner():\n",
    "    \n",
    "    get_photo_and_ans_list()\n",
    "\n",
    "    button_blue.on_click(register_btn_event)\n",
    "    button_orange.on_click(register_btn_event)\n",
    "    \n",
    "    for i in range (len(test_photos)):\n",
    "            pic = Image(test_photos[i], width = 500)\n",
    "            display(pic)\n",
    "            time.sleep(0.75)\n",
    "            clear_output(wait = False)\n",
    "            panel = widgets.HBox([button_blue, button_orange])\n",
    "    \n",
    "            display(panel)\n",
    "            \n",
    "            result = wait_for_event(timeout=3)\n",
    "    \n",
    "            if result['description'] == 'Blue':\n",
    "                print(\"Blue button was pressed\")\n",
    "            elif result['description'] == 'Orange':\n",
    "                print(\"Orange button was pressed\")\n",
    "            elif result['description'] == '':\n",
    "                print(\"No button was pressed! Answer more quickly\")\n",
    "    \n",
    "            if result['description']=='Blue':\n",
    "                user_responses.append(1)\n",
    "            elif result['description']=='Orange':\n",
    "                user_responses.append(2)\n",
    "            elif result['description'] == '':\n",
    "                user_responses.append(0)\n",
    "    \n",
    "            time.sleep(1)\n",
    "            clear_output(wait = False)\n",
    "\n",
    "    #print(correct_answer_list)\n",
    "    #print(user_responses)\n",
    "\n",
    "    return user_responses"
   ]
  },
  {
   "cell_type": "code",
   "execution_count": 92,
   "id": "24a0f083-c2ec-48d2-8c85-80ae4dec74b7",
   "metadata": {},
   "outputs": [],
   "source": [
    "user_responses = []\n",
    "correct_answer_list = []\n"
   ]
  },
  {
   "cell_type": "code",
   "execution_count": 93,
   "id": "24d45cda-01d4-4e0d-ace9-a2768dfb11ef",
   "metadata": {},
   "outputs": [],
   "source": [
    "def whole_ANS_test():\n",
    "    introduction()\n",
    "    get_personal_info()\n",
    "    clear_output(wait = False)\n",
    "    for i in range (4):\n",
    "        choose_winner()\n",
    "\n",
    "    score = 0\n",
    "    for i in range (len(user_responses)):\n",
    "        if int(user_responses[i])== int(correct_answer_list[i]):\n",
    "            score = score +1\n",
    "    print(\"You scored\", score, \"out of 64!\")\n",
    "    return"
   ]
  },
  {
   "cell_type": "code",
   "execution_count": 94,
   "id": "a0b73687-6b24-455a-b057-37294756e119",
   "metadata": {},
   "outputs": [
    {
     "name": "stdout",
     "output_type": "stream",
     "text": [
      "['2', '2', '2', '2', '1', '2', '1', '2', '1', '1', '1', '1', '1', '2', '1', '2', '2', '2', '1', '1', '1', '2', '2', '1', '2', '1', '1', '2', '1', '2', '1', '2', '1', '2', '2', '1', '1', '1', '2', '1', '1', '2', '2', '2', '2', '1', '2', '1', '2', '2', '1', '2', '1', '1', '1', '1', '1', '2', '2', '2', '1', '2', '2', '1']\n",
      "[1, 2, 2, 2, 1, 2, 1, 2, 1, 1, 1, 1, 1, 2, 1, 2, 2, 2, 1, 1, 1, 2, 2, 1, 2, 1, 1, 2, 1, 2, 1, 2, 2, 2, 2, 1, 1, 1, 2, 1, 1, 2, 2, 2, 2, 1, 2, 1, 2, 2, 1, 2, 1, 1, 1, 1, 1, 2, 2, 2, 1, 2, 2, 1]\n",
      "You scored 62 out of 64!\n"
     ]
    }
   ],
   "source": [
    "whole_ANS_test()"
   ]
  },
  {
   "cell_type": "code",
   "execution_count": null,
   "id": "a3ac855d-01b5-44ba-89cb-7152cb89981c",
   "metadata": {},
   "outputs": [],
   "source": []
  }
 ],
 "metadata": {
  "kernelspec": {
   "display_name": "Python 3 (ipykernel)",
   "language": "python",
   "name": "python3"
  },
  "language_info": {
   "codemirror_mode": {
    "name": "ipython",
    "version": 3
   },
   "file_extension": ".py",
   "mimetype": "text/x-python",
   "name": "python",
   "nbconvert_exporter": "python",
   "pygments_lexer": "ipython3",
   "version": "3.10.10"
  }
 },
 "nbformat": 4,
 "nbformat_minor": 5
}
